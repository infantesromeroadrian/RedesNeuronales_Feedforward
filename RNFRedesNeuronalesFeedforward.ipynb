{
 "cells": [
  {
   "cell_type": "markdown",
   "source": [
    "Redes Neuronales Feedforward:\n",
    "\n",
    "Es importante aclarar que las Redes Neuronales Feedforward (también conocidas como redes de alimentación directa) son un tipo de red neuronal artificial donde las conexiones entre las unidades no forman un ciclo. Este es el tipo de red neuronal más comúnmente usado y es especialmente útil para tareas de aprendizaje supervisado, que puede ser tanto de clasificación como de regresión."
   ],
   "metadata": {
    "collapsed": false
   }
  },
  {
   "cell_type": "code",
   "execution_count": 5,
   "outputs": [],
   "source": [
    "# Importamos las librerías necesarias\n",
    "\n",
    "import numpy as np\n",
    "import matplotlib.pyplot as plt\n",
    "import tensorflow as tf\n",
    "from tensorflow.keras.datasets import mnist\n",
    "from tensorflow.keras.models import Sequential\n",
    "from tensorflow.keras.layers import Dense, Dropout, Flatten\n",
    "from tensorflow.keras.layers import Conv2D, MaxPooling2D"
   ],
   "metadata": {
    "collapsed": false,
    "ExecuteTime": {
     "end_time": "2023-06-06T22:30:30.112161Z",
     "start_time": "2023-06-06T22:30:30.096595Z"
    }
   }
  },
  {
   "cell_type": "markdown",
   "source": [
    "El siguiente paso es cargar y preprocesar nuestros datos. Cuando trabajamos con redes neuronales, generalmente queremos escalar nuestros datos para que se encuentren en un rango pequeño, como de 0 a 1. Esto ayuda a la red a aprender más efectivamente."
   ],
   "metadata": {
    "collapsed": false
   }
  },
  {
   "cell_type": "code",
   "execution_count": 6,
   "outputs": [],
   "source": [
    "# Cargamos los datos de MNIST\n",
    "\n",
    "(X_train, y_train), (X_test, y_test) = mnist.load_data()\n",
    "\n",
    "# Reshape de los datos de entrenamiento y testeo\n",
    "\n",
    "X_train = X_train.reshape(X_train.shape[0], 28, 28, 1).astype('float32') # Aqui se hace un reshape de los datos de entrenamiento\n",
    "X_test = X_test.reshape(X_test.shape[0], 28, 28, 1).astype('float32') # Aqui se hace un reshape de los datos de testeo\n",
    "input_shape = (28, 28, 1) # Aqui se define el tamaño de la imagen\n",
    "\n",
    "# Normalizamos los datos de entrenamiento y testeo\n",
    "\n",
    "X_train , X_test = X_train / 255.0, X_test / 255.0"
   ],
   "metadata": {
    "collapsed": false,
    "ExecuteTime": {
     "end_time": "2023-06-06T22:30:30.470958Z",
     "start_time": "2023-06-06T22:30:30.103894Z"
    }
   }
  },
  {
   "cell_type": "markdown",
   "source": [
    "# Definir la Arquitectura del Modelo\n",
    "\n",
    "Vamos a definir una red neuronal feedforward simple con tres capas. La primera capa es una capa de entrada donde la dimensión del tensor de entrada será de 28x28x1 (el tamaño de nuestras imágenes). Luego, utilizaremos una capa de \"Flatten\" que aplana la entrada en un vector. Las siguientes capas serán capas \"Dense\" (o totalmente conectadas) con funciones de activación ReLU y finalmente la capa de salida tiene 10 neuronas (para las 10 clases de dígitos del 0 al 9) con una función de activación softmax, que se utiliza para la clasificación multiclase."
   ],
   "metadata": {
    "collapsed": false
   }
  },
  {
   "cell_type": "code",
   "execution_count": 7,
   "outputs": [],
   "source": [
    "# Definimos la arquitectura del modelo\n",
    "\n",
    "model = Sequential()\n",
    "model.add(Flatten(input_shape=(28, 28, 1)))\n",
    "model.add(Dense(128, activation='relu'))\n",
    "model.add(Dense(10, activation='softmax'))"
   ],
   "metadata": {
    "collapsed": false,
    "ExecuteTime": {
     "end_time": "2023-06-06T22:30:30.543078Z",
     "start_time": "2023-06-06T22:30:30.478188Z"
    }
   }
  },
  {
   "cell_type": "markdown",
   "source": [
    "Esta es una red neuronal muy básica. La primera capa, Flatten, simplemente toma nuestra imagen de entrada de 28x28 y la aplana en un vector de 1D. La siguiente capa es una capa Dense con 128 nodos (o neuronas) y la función de activación ReLU. La capa final es otra capa Dense con 10 nodos (uno para cada clase de dígitos del 0 al 9) y la función de activación softmax, que da una distribución de probabilidad en la salida, es decir, la suma de las salidas será 1."
   ],
   "metadata": {
    "collapsed": false
   }
  },
  {
   "cell_type": "code",
   "execution_count": 8,
   "outputs": [],
   "source": [
    "# Compilamos el modelo\n",
    "\n",
    "# Antes de entrenar el modelo, debemos compilarlo. Durante la compilación, definimos la función de pérdida, el optimizador y las métricas que usaremos para el entrenamiento.\n",
    "\n",
    "model.compile(optimizer='adam',\n",
    "              loss='sparse_categorical_crossentropy',\n",
    "              metrics=['accuracy'])\n",
    "\n",
    "# La función de pérdida 'sparse_categorical_crossentropy' se utiliza porque nuestras etiquetas son enteros. Si las etiquetas se codificaran en one-hot, utilizaríamos 'categorical_crossentropy'.\n",
    "\n",
    "# 'Adam' es un optimizador popular porque ajusta automáticamente la tasa de aprendizaje.\n",
    "\n",
    "# 'Accuracy' es una métrica adecuada para problemas de clasificación."
   ],
   "metadata": {
    "collapsed": false,
    "ExecuteTime": {
     "end_time": "2023-06-06T22:30:30.557037Z",
     "start_time": "2023-06-06T22:30:30.544949Z"
    }
   }
  },
  {
   "cell_type": "code",
   "execution_count": 9,
   "outputs": [
    {
     "name": "stdout",
     "output_type": "stream",
     "text": [
      "Epoch 1/10\n",
      "1875/1875 [==============================] - 3s 1ms/step - loss: 0.2669 - accuracy: 0.9245 - val_loss: 0.1392 - val_accuracy: 0.9581\n",
      "Epoch 2/10\n",
      "1875/1875 [==============================] - 2s 1ms/step - loss: 0.1193 - accuracy: 0.9649 - val_loss: 0.1031 - val_accuracy: 0.9680\n",
      "Epoch 3/10\n",
      "1875/1875 [==============================] - 2s 1ms/step - loss: 0.0815 - accuracy: 0.9754 - val_loss: 0.0801 - val_accuracy: 0.9748\n",
      "Epoch 4/10\n",
      "1875/1875 [==============================] - 2s 1ms/step - loss: 0.0607 - accuracy: 0.9816 - val_loss: 0.0852 - val_accuracy: 0.9735\n",
      "Epoch 5/10\n",
      "1875/1875 [==============================] - 2s 1ms/step - loss: 0.0474 - accuracy: 0.9855 - val_loss: 0.0835 - val_accuracy: 0.9751\n",
      "Epoch 6/10\n",
      "1875/1875 [==============================] - 2s 1ms/step - loss: 0.0361 - accuracy: 0.9888 - val_loss: 0.0723 - val_accuracy: 0.9786\n",
      "Epoch 7/10\n",
      "1875/1875 [==============================] - 2s 1ms/step - loss: 0.0296 - accuracy: 0.9907 - val_loss: 0.0780 - val_accuracy: 0.9765\n",
      "Epoch 8/10\n",
      "1875/1875 [==============================] - 2s 1ms/step - loss: 0.0240 - accuracy: 0.9928 - val_loss: 0.0775 - val_accuracy: 0.9776\n",
      "Epoch 9/10\n",
      "1875/1875 [==============================] - 2s 1ms/step - loss: 0.0207 - accuracy: 0.9937 - val_loss: 0.0774 - val_accuracy: 0.9779\n",
      "Epoch 10/10\n",
      "1875/1875 [==============================] - 2s 1ms/step - loss: 0.0163 - accuracy: 0.9950 - val_loss: 0.0756 - val_accuracy: 0.9782\n"
     ]
    }
   ],
   "source": [
    "# Entrenamos el modelo\n",
    "\n",
    "# El siguiente paso es entrenar el modelo. Para ello, utilizamos el método fit() de Keras, que escribe el bucle de entrenamiento por nosotros. Aquí, especificamos el número de épocas (iteraciones sobre el conjunto de datos de entrenamiento) y el tamaño del lote (el número de muestras por actualización de gradiente) y Keras se encarga del resto.\n",
    "\n",
    "history = model.fit(X_train, y_train, epochs=10, validation_data=(X_test, y_test))\n",
    "\n",
    "# epochs = 10 significa que entrenaremos el modelo durante 10 épocas.\n",
    "# validation_data = (X_test, y_test) significa que utilizaremos los datos de testeo como conjunto de validación."
   ],
   "metadata": {
    "collapsed": false,
    "ExecuteTime": {
     "end_time": "2023-06-06T22:30:54.784932Z",
     "start_time": "2023-06-06T22:30:30.558667Z"
    }
   }
  },
  {
   "cell_type": "markdown",
   "source": [
    "Ahora que hemos entrenado nuestro modelo, es momento de evaluar cómo se desempeña en datos que no ha visto antes (nuestro conjunto de prueba). Para hacerlo, utilizaremos la función evaluate en nuestro modelo."
   ],
   "metadata": {
    "collapsed": false
   }
  },
  {
   "cell_type": "code",
   "execution_count": 10,
   "outputs": [
    {
     "name": "stdout",
     "output_type": "stream",
     "text": [
      "313/313 [==============================] - 0s 821us/step - loss: 0.0756 - accuracy: 0.9782\n",
      "Test accuracy: 0.9782000184059143\n"
     ]
    }
   ],
   "source": [
    "# Evaluamos el modelo\n",
    "\n",
    "test_loss, test_acc = model.evaluate(X_test, y_test)\n",
    "print('Test accuracy:', test_acc)"
   ],
   "metadata": {
    "collapsed": false,
    "ExecuteTime": {
     "end_time": "2023-06-06T22:33:19.415408Z",
     "start_time": "2023-06-06T22:33:19.068475Z"
    }
   }
  },
  {
   "cell_type": "markdown",
   "source": [
    "Esto nos dará una pérdida final (cuánto se equivoca el modelo, un valor más bajo es mejor) y una precisión (qué porcentaje de las clasificaciones el modelo hizo correctamente, un valor más alto es mejor)."
   ],
   "metadata": {
    "collapsed": false
   }
  },
  {
   "cell_type": "code",
   "execution_count": 11,
   "outputs": [
    {
     "name": "stdout",
     "output_type": "stream",
     "text": [
      "313/313 [==============================] - 0s 682us/step\n"
     ]
    }
   ],
   "source": [
    "# Hacemos predicciones\n",
    "\n",
    "predictions = model.predict(X_test)"
   ],
   "metadata": {
    "collapsed": false,
    "ExecuteTime": {
     "end_time": "2023-06-06T22:35:09.205219Z",
     "start_time": "2023-06-06T22:35:08.733478Z"
    }
   }
  },
  {
   "cell_type": "code",
   "execution_count": 12,
   "outputs": [
    {
     "name": "stdout",
     "output_type": "stream",
     "text": [
      "[1.3073467e-08 1.2566576e-10 2.3073410e-08 1.3163740e-05 1.5554192e-13\n",
      " 1.7587614e-11 4.6777952e-13 9.9998689e-01 6.2871992e-09 8.5900105e-09]\n",
      "7\n",
      "7\n"
     ]
    }
   ],
   "source": [
    "# Imprimimos las predicciones\n",
    "\n",
    "# Vamos a ver la primera predicción\n",
    "print(predictions[0])\n",
    "\n",
    "# El digito con la mayor probabilidad.\n",
    "print(np.argmax(predictions[0]))\n",
    "\n",
    "# El valor real del digito.\n",
    "print(y_test[0])"
   ],
   "metadata": {
    "collapsed": false,
    "ExecuteTime": {
     "end_time": "2023-06-06T22:36:27.595053Z",
     "start_time": "2023-06-06T22:36:27.583498Z"
    }
   }
  },
  {
   "cell_type": "code",
   "execution_count": 13,
   "outputs": [
    {
     "data": {
      "text/plain": "<Figure size 640x480 with 1 Axes>",
      "image/png": "[encoded data removed]"
     },
     "metadata": {},
     "output_type": "display_data"
    }
   ],
   "source": [
    "# Vamos a graficar la imagen para ver si la predicción es correcta.\n",
    "\n",
    "plt.imshow(X_test[0], cmap=plt.cm.binary)\n",
    "plt.show()"
   ],
   "metadata": {
    "collapsed": false,
    "ExecuteTime": {
     "end_time": "2023-06-06T22:36:48.932084Z",
     "start_time": "2023-06-06T22:36:48.739051Z"
    }
   }
  },
  {
   "cell_type": "code",
   "execution_count": 14,
   "outputs": [
    {
     "data": {
      "text/plain": "<Figure size 640x480 with 1 Axes>",
      "image/png": "[encoded data removed]"
     },
     "metadata": {},
     "output_type": "display_data"
    }
   ],
   "source": [
    "# Graficamos la pérdida del modelo durante el entrenamiento y la validación (la precisión del modelo en los datos de validación se llama precisión de validación).\n",
    "\n",
    "plt.plot(history.history['loss'], label='loss')\n",
    "plt.plot(history.history['val_loss'], label = 'val_loss')\n",
    "plt.xlabel('Epoch')\n",
    "plt.ylabel('Loss')\n",
    "plt.legend(loc='upper right')\n",
    "plt.show()"
   ],
   "metadata": {
    "collapsed": false,
    "ExecuteTime": {
     "end_time": "2023-06-06T22:37:45.166353Z",
     "start_time": "2023-06-06T22:37:45.066403Z"
    }
   }
  },
  {
   "cell_type": "code",
   "execution_count": null,
   "outputs": [],
   "source": [],
   "metadata": {
    "collapsed": false
   }
  }
 ],
 "metadata": {
  "kernelspec": {
   "display_name": "Python 3",
   "language": "python",
   "name": "python3"
  },
  "language_info": {
   "codemirror_mode": {
    "name": "ipython",
    "version": 2
   },
   "file_extension": ".py",
   "mimetype": "text/x-python",
   "name": "python",
   "nbconvert_exporter": "python",
   "pygments_lexer": "ipython2",
   "version": "2.7.6"
  }
 },
 "nbformat": 4,
 "nbformat_minor": 0
}
