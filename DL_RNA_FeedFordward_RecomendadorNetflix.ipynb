{
 "cells": [
  {
   "cell_type": "code",
   "execution_count": 1,
   "metadata": {
    "collapsed": true,
    "ExecuteTime": {
     "end_time": "2023-06-23T20:22:48.886507Z",
     "start_time": "2023-06-23T20:22:45.483662Z"
    }
   },
   "outputs": [
    {
     "name": "stderr",
     "output_type": "stream",
     "text": [
      "2023-06-23 22:22:46.487766: I tensorflow/core/platform/cpu_feature_guard.cc:193] This TensorFlow binary is optimized with oneAPI Deep Neural Network Library (oneDNN) to use the following CPU instructions in performance-critical operations:  SSE4.1 SSE4.2\n",
      "To enable them in other operations, rebuild TensorFlow with the appropriate compiler flags.\n"
     ]
    }
   ],
   "source": [
    "import pandas as pd\n",
    "import numpy as np\n",
    "from sklearn.model_selection import train_test_split\n",
    "from sklearn.preprocessing import StandardScaler, OneHotEncoder\n",
    "from sklearn.compose import ColumnTransformer\n",
    "from sklearn.pipeline import Pipeline\n",
    "from keras.models import Sequential\n",
    "from keras.layers import Dense"
   ]
  },
  {
   "cell_type": "code",
   "execution_count": 2,
   "outputs": [
    {
     "name": "stdout",
     "output_type": "stream",
     "text": [
      "UTF-16\n"
     ]
    }
   ],
   "source": [
    "import chardet\n",
    "\n",
    "with open('Netflix Shows.csv', 'rb') as f:\n",
    "    result = chardet.detect(f.read())  # or readline if the file is large\n",
    "\n",
    "print(result['encoding'])"
   ],
   "metadata": {
    "collapsed": false,
    "ExecuteTime": {
     "end_time": "2023-06-23T20:22:48.891060Z",
     "start_time": "2023-06-23T20:22:48.888044Z"
    }
   }
  },
  {
   "cell_type": "code",
   "execution_count": 3,
   "outputs": [
    {
     "data": {
      "text/plain": "                   title rating  \\\n0           White Chicks  PG-13   \n1    Lucky Number Slevin      R   \n2         Grey's Anatomy  TV-14   \n3           Prison Break  TV-14   \n4  How I Met Your Mother  TV-PG   \n\n                                         ratingLevel  ratingDescription  \\\n0  crude and sexual humor, language and some drug...                 80   \n1  strong violence, sexual content and adult lang...                100   \n2  Parents strongly cautioned. May be unsuitable ...                 90   \n3  Parents strongly cautioned. May be unsuitable ...                 90   \n4  Parental guidance suggested. May not be suitab...                 70   \n\n   release year  user rating score  user rating size  \n0          2004               82.0                80  \n1          2006                NaN                82  \n2          2016               98.0                80  \n3          2008               98.0                80  \n4          2014               94.0                80  ",
      "text/html": "<div>\n<style scoped>\n    .dataframe tbody tr th:only-of-type {\n        vertical-align: middle;\n    }\n\n    .dataframe tbody tr th {\n        vertical-align: top;\n    }\n\n    .dataframe thead th {\n        text-align: right;\n    }\n</style>\n<table border=\"1\" class=\"dataframe\">\n  <thead>\n    <tr style=\"text-align: right;\">\n      <th></th>\n      <th>title</th>\n      <th>rating</th>\n      <th>ratingLevel</th>\n      <th>ratingDescription</th>\n      <th>release year</th>\n      <th>user rating score</th>\n      <th>user rating size</th>\n    </tr>\n  </thead>\n  <tbody>\n    <tr>\n      <th>0</th>\n      <td>White Chicks</td>\n      <td>PG-13</td>\n      <td>crude and sexual humor, language and some drug...</td>\n      <td>80</td>\n      <td>2004</td>\n      <td>82.0</td>\n      <td>80</td>\n    </tr>\n    <tr>\n      <th>1</th>\n      <td>Lucky Number Slevin</td>\n      <td>R</td>\n      <td>strong violence, sexual content and adult lang...</td>\n      <td>100</td>\n      <td>2006</td>\n      <td>NaN</td>\n      <td>82</td>\n    </tr>\n    <tr>\n      <th>2</th>\n      <td>Grey's Anatomy</td>\n      <td>TV-14</td>\n      <td>Parents strongly cautioned. May be unsuitable ...</td>\n      <td>90</td>\n      <td>2016</td>\n      <td>98.0</td>\n      <td>80</td>\n    </tr>\n    <tr>\n      <th>3</th>\n      <td>Prison Break</td>\n      <td>TV-14</td>\n      <td>Parents strongly cautioned. May be unsuitable ...</td>\n      <td>90</td>\n      <td>2008</td>\n      <td>98.0</td>\n      <td>80</td>\n    </tr>\n    <tr>\n      <th>4</th>\n      <td>How I Met Your Mother</td>\n      <td>TV-PG</td>\n      <td>Parental guidance suggested. May not be suitab...</td>\n      <td>70</td>\n      <td>2014</td>\n      <td>94.0</td>\n      <td>80</td>\n    </tr>\n  </tbody>\n</table>\n</div>"
     },
     "execution_count": 3,
     "metadata": {},
     "output_type": "execute_result"
    }
   ],
   "source": [
    "df = pd.read_csv('Netflix Shows.csv', encoding=result['encoding'])\n",
    "df.head()"
   ],
   "metadata": {
    "collapsed": false,
    "ExecuteTime": {
     "end_time": "2023-06-23T20:22:48.938979Z",
     "start_time": "2023-06-23T20:22:48.891717Z"
    }
   }
  },
  {
   "cell_type": "code",
   "execution_count": 4,
   "outputs": [
    {
     "name": "stdout",
     "output_type": "stream",
     "text": [
      "<class 'pandas.core.frame.DataFrame'>\n",
      "RangeIndex: 1000 entries, 0 to 999\n",
      "Data columns (total 7 columns):\n",
      " #   Column             Non-Null Count  Dtype  \n",
      "---  ------             --------------  -----  \n",
      " 0   title              1000 non-null   object \n",
      " 1   rating             1000 non-null   object \n",
      " 2   ratingLevel        941 non-null    object \n",
      " 3   ratingDescription  1000 non-null   int64  \n",
      " 4   release year       1000 non-null   int64  \n",
      " 5   user rating score  605 non-null    float64\n",
      " 6   user rating size   1000 non-null   int64  \n",
      "dtypes: float64(1), int64(3), object(3)\n",
      "memory usage: 54.8+ KB\n"
     ]
    }
   ],
   "source": [
    "df.info()"
   ],
   "metadata": {
    "collapsed": false,
    "ExecuteTime": {
     "end_time": "2023-06-23T20:22:48.939187Z",
     "start_time": "2023-06-23T20:22:48.931467Z"
    }
   }
  },
  {
   "cell_type": "code",
   "execution_count": 5,
   "outputs": [
    {
     "data": {
      "text/plain": "13 Reasons Why          8\nGirlboss                7\nPrison Break            7\nPretty Little Liars     6\nShameless (U.S.)        6\n                       ..\n100 Metros              1\nThe Girl in the Book    1\nThe Returned            1\nKurt Seyit & Sura       1\nBeary Tales             1\nName: title, Length: 496, dtype: int64"
     },
     "execution_count": 5,
     "metadata": {},
     "output_type": "execute_result"
    }
   ],
   "source": [
    "df['title'].value_counts()"
   ],
   "metadata": {
    "collapsed": false,
    "ExecuteTime": {
     "end_time": "2023-06-23T20:22:48.939385Z",
     "start_time": "2023-06-23T20:22:48.936479Z"
    }
   }
  },
  {
   "cell_type": "code",
   "execution_count": 6,
   "outputs": [
    {
     "data": {
      "text/plain": "496"
     },
     "execution_count": 6,
     "metadata": {},
     "output_type": "execute_result"
    }
   ],
   "source": [
    "df['title'].nunique()"
   ],
   "metadata": {
    "collapsed": false,
    "ExecuteTime": {
     "end_time": "2023-06-23T20:22:48.944965Z",
     "start_time": "2023-06-23T20:22:48.940733Z"
    }
   }
  },
  {
   "cell_type": "code",
   "execution_count": 7,
   "outputs": [
    {
     "data": {
      "text/plain": "TV-14       234\nPG          170\nTV-MA       148\nG           138\nTV-Y         68\nTV-PG        59\nTV-G         52\nTV-Y7-FV     44\nTV-Y7        38\nR            19\nPG-13        15\nNR           14\nUR            1\nName: rating, dtype: int64"
     },
     "execution_count": 7,
     "metadata": {},
     "output_type": "execute_result"
    }
   ],
   "source": [
    "df[\"rating\"].value_counts()"
   ],
   "metadata": {
    "collapsed": false,
    "ExecuteTime": {
     "end_time": "2023-06-23T20:22:48.948494Z",
     "start_time": "2023-06-23T20:22:48.944378Z"
    }
   }
  },
  {
   "cell_type": "code",
   "execution_count": 8,
   "outputs": [
    {
     "data": {
      "text/plain": "13"
     },
     "execution_count": 8,
     "metadata": {},
     "output_type": "execute_result"
    }
   ],
   "source": [
    "df[\"rating\"].nunique()"
   ],
   "metadata": {
    "collapsed": false,
    "ExecuteTime": {
     "end_time": "2023-06-23T20:22:48.975048Z",
     "start_time": "2023-06-23T20:22:48.949738Z"
    }
   }
  },
  {
   "cell_type": "code",
   "execution_count": 9,
   "outputs": [
    {
     "data": {
      "text/plain": "2016    292\n2015    109\n2017    100\n2014     58\n2013     57\n2012     45\n1997     28\n1998     26\n2008     22\n2011     21\n2010     20\n2009     20\n2006     19\n1999     19\n2007     18\n2000     17\n2003     17\n2002     15\n2005     14\n1993     14\n2001     11\n2004      8\n1990      7\n1995      6\n1994      6\n1982      6\n1991      5\n1976      4\n1986      4\n1940      3\n1992      2\n1978      2\n1989      2\n1987      2\n1996      1\nName: release year, dtype: int64"
     },
     "execution_count": 9,
     "metadata": {},
     "output_type": "execute_result"
    }
   ],
   "source": [
    "df[\"release year\"].value_counts()"
   ],
   "metadata": {
    "collapsed": false,
    "ExecuteTime": {
     "end_time": "2023-06-23T20:22:49.010994Z",
     "start_time": "2023-06-23T20:22:48.954698Z"
    }
   }
  },
  {
   "cell_type": "code",
   "execution_count": 10,
   "outputs": [
    {
     "data": {
      "text/plain": "35"
     },
     "execution_count": 10,
     "metadata": {},
     "output_type": "execute_result"
    }
   ],
   "source": [
    "df[\"release year\"].nunique()"
   ],
   "metadata": {
    "collapsed": false,
    "ExecuteTime": {
     "end_time": "2023-06-23T20:22:49.020747Z",
     "start_time": "2023-06-23T20:22:48.959181Z"
    }
   }
  },
  {
   "cell_type": "code",
   "execution_count": 11,
   "outputs": [
    {
     "data": {
      "text/plain": "98.0    46\n97.0    36\n95.0    33\n91.0    33\n94.0    32\n96.0    31\n92.0    28\n81.0    27\n93.0    24\n80.0    21\n83.0    18\n74.0    16\n61.0    15\n88.0    15\n86.0    14\n90.0    13\n84.0    13\n68.0    12\n79.0    12\n82.0    12\n57.0    12\n89.0    12\n70.0    11\n77.0    10\n67.0    10\n85.0    10\n64.0    10\n62.0     9\n99.0     8\n72.0     8\n71.0     7\n73.0     7\n58.0     6\n56.0     6\n69.0     5\n66.0     5\n65.0     5\n63.0     4\n78.0     4\n55.0     2\n75.0     2\n59.0     1\nName: user rating score, dtype: int64"
     },
     "execution_count": 11,
     "metadata": {},
     "output_type": "execute_result"
    }
   ],
   "source": [
    "df[\"user rating score\"].value_counts()"
   ],
   "metadata": {
    "collapsed": false,
    "ExecuteTime": {
     "end_time": "2023-06-23T20:22:49.020951Z",
     "start_time": "2023-06-23T20:22:48.962268Z"
    }
   }
  },
  {
   "cell_type": "code",
   "execution_count": 12,
   "outputs": [
    {
     "data": {
      "text/plain": "42"
     },
     "execution_count": 12,
     "metadata": {},
     "output_type": "execute_result"
    }
   ],
   "source": [
    "df[\"user rating score\"].nunique()"
   ],
   "metadata": {
    "collapsed": false,
    "ExecuteTime": {
     "end_time": "2023-06-23T20:22:49.021065Z",
     "start_time": "2023-06-23T20:22:48.969320Z"
    }
   }
  },
  {
   "cell_type": "code",
   "execution_count": 13,
   "outputs": [
    {
     "data": {
      "text/plain": "                   title rating  \\\n0           White Chicks  PG-13   \n1    Lucky Number Slevin      R   \n2         Grey's Anatomy  TV-14   \n3           Prison Break  TV-14   \n4  How I Met Your Mother  TV-PG   \n\n                                         ratingLevel  ratingDescription  \\\n0  crude and sexual humor, language and some drug...                 80   \n1  strong violence, sexual content and adult lang...                100   \n2  Parents strongly cautioned. May be unsuitable ...                 90   \n3  Parents strongly cautioned. May be unsuitable ...                 90   \n4  Parental guidance suggested. May not be suitab...                 70   \n\n   release year  user rating score  user rating size  \n0          2004               82.0                80  \n1          2006                NaN                82  \n2          2016               98.0                80  \n3          2008               98.0                80  \n4          2014               94.0                80  ",
      "text/html": "<div>\n<style scoped>\n    .dataframe tbody tr th:only-of-type {\n        vertical-align: middle;\n    }\n\n    .dataframe tbody tr th {\n        vertical-align: top;\n    }\n\n    .dataframe thead th {\n        text-align: right;\n    }\n</style>\n<table border=\"1\" class=\"dataframe\">\n  <thead>\n    <tr style=\"text-align: right;\">\n      <th></th>\n      <th>title</th>\n      <th>rating</th>\n      <th>ratingLevel</th>\n      <th>ratingDescription</th>\n      <th>release year</th>\n      <th>user rating score</th>\n      <th>user rating size</th>\n    </tr>\n  </thead>\n  <tbody>\n    <tr>\n      <th>0</th>\n      <td>White Chicks</td>\n      <td>PG-13</td>\n      <td>crude and sexual humor, language and some drug...</td>\n      <td>80</td>\n      <td>2004</td>\n      <td>82.0</td>\n      <td>80</td>\n    </tr>\n    <tr>\n      <th>1</th>\n      <td>Lucky Number Slevin</td>\n      <td>R</td>\n      <td>strong violence, sexual content and adult lang...</td>\n      <td>100</td>\n      <td>2006</td>\n      <td>NaN</td>\n      <td>82</td>\n    </tr>\n    <tr>\n      <th>2</th>\n      <td>Grey's Anatomy</td>\n      <td>TV-14</td>\n      <td>Parents strongly cautioned. May be unsuitable ...</td>\n      <td>90</td>\n      <td>2016</td>\n      <td>98.0</td>\n      <td>80</td>\n    </tr>\n    <tr>\n      <th>3</th>\n      <td>Prison Break</td>\n      <td>TV-14</td>\n      <td>Parents strongly cautioned. May be unsuitable ...</td>\n      <td>90</td>\n      <td>2008</td>\n      <td>98.0</td>\n      <td>80</td>\n    </tr>\n    <tr>\n      <th>4</th>\n      <td>How I Met Your Mother</td>\n      <td>TV-PG</td>\n      <td>Parental guidance suggested. May not be suitab...</td>\n      <td>70</td>\n      <td>2014</td>\n      <td>94.0</td>\n      <td>80</td>\n    </tr>\n  </tbody>\n</table>\n</div>"
     },
     "execution_count": 13,
     "metadata": {},
     "output_type": "execute_result"
    }
   ],
   "source": [
    "df.head()"
   ],
   "metadata": {
    "collapsed": false,
    "ExecuteTime": {
     "end_time": "2023-06-23T20:22:49.021155Z",
     "start_time": "2023-06-23T20:22:48.987498Z"
    }
   }
  },
  {
   "cell_type": "code",
   "execution_count": 14,
   "outputs": [
    {
     "data": {
      "text/plain": "title                  0\nrating                 0\nratingLevel           59\nratingDescription      0\nrelease year           0\nuser rating score    395\nuser rating size       0\ndtype: int64"
     },
     "execution_count": 14,
     "metadata": {},
     "output_type": "execute_result"
    }
   ],
   "source": [
    "df.isnull().sum()"
   ],
   "metadata": {
    "collapsed": false,
    "ExecuteTime": {
     "end_time": "2023-06-23T20:22:49.021230Z",
     "start_time": "2023-06-23T20:22:48.987738Z"
    }
   }
  },
  {
   "cell_type": "code",
   "execution_count": 15,
   "outputs": [],
   "source": [
    "# Vamos a completar los valores nulos de la columna \"ratingLevel\" y los de \"user rating score\" con la moda\n",
    "\n",
    "df[\"ratingLevel\"].fillna(df[\"ratingLevel\"].mode()[0], inplace=True)\n",
    "df[\"user rating score\"].fillna(df[\"user rating score\"].mode()[0], inplace=True)"
   ],
   "metadata": {
    "collapsed": false,
    "ExecuteTime": {
     "end_time": "2023-06-23T20:22:49.021380Z",
     "start_time": "2023-06-23T20:22:48.987810Z"
    }
   }
  },
  {
   "cell_type": "code",
   "execution_count": 16,
   "outputs": [
    {
     "data": {
      "text/plain": "                   title rating  \\\n0           White Chicks  PG-13   \n1    Lucky Number Slevin      R   \n2         Grey's Anatomy  TV-14   \n3           Prison Break  TV-14   \n4  How I Met Your Mother  TV-PG   \n\n                                         ratingLevel  ratingDescription  \\\n0  crude and sexual humor, language and some drug...                 80   \n1  strong violence, sexual content and adult lang...                100   \n2  Parents strongly cautioned. May be unsuitable ...                 90   \n3  Parents strongly cautioned. May be unsuitable ...                 90   \n4  Parental guidance suggested. May not be suitab...                 70   \n\n   release year  user rating score  user rating size  \n0          2004               82.0                80  \n1          2006               98.0                82  \n2          2016               98.0                80  \n3          2008               98.0                80  \n4          2014               94.0                80  ",
      "text/html": "<div>\n<style scoped>\n    .dataframe tbody tr th:only-of-type {\n        vertical-align: middle;\n    }\n\n    .dataframe tbody tr th {\n        vertical-align: top;\n    }\n\n    .dataframe thead th {\n        text-align: right;\n    }\n</style>\n<table border=\"1\" class=\"dataframe\">\n  <thead>\n    <tr style=\"text-align: right;\">\n      <th></th>\n      <th>title</th>\n      <th>rating</th>\n      <th>ratingLevel</th>\n      <th>ratingDescription</th>\n      <th>release year</th>\n      <th>user rating score</th>\n      <th>user rating size</th>\n    </tr>\n  </thead>\n  <tbody>\n    <tr>\n      <th>0</th>\n      <td>White Chicks</td>\n      <td>PG-13</td>\n      <td>crude and sexual humor, language and some drug...</td>\n      <td>80</td>\n      <td>2004</td>\n      <td>82.0</td>\n      <td>80</td>\n    </tr>\n    <tr>\n      <th>1</th>\n      <td>Lucky Number Slevin</td>\n      <td>R</td>\n      <td>strong violence, sexual content and adult lang...</td>\n      <td>100</td>\n      <td>2006</td>\n      <td>98.0</td>\n      <td>82</td>\n    </tr>\n    <tr>\n      <th>2</th>\n      <td>Grey's Anatomy</td>\n      <td>TV-14</td>\n      <td>Parents strongly cautioned. May be unsuitable ...</td>\n      <td>90</td>\n      <td>2016</td>\n      <td>98.0</td>\n      <td>80</td>\n    </tr>\n    <tr>\n      <th>3</th>\n      <td>Prison Break</td>\n      <td>TV-14</td>\n      <td>Parents strongly cautioned. May be unsuitable ...</td>\n      <td>90</td>\n      <td>2008</td>\n      <td>98.0</td>\n      <td>80</td>\n    </tr>\n    <tr>\n      <th>4</th>\n      <td>How I Met Your Mother</td>\n      <td>TV-PG</td>\n      <td>Parental guidance suggested. May not be suitab...</td>\n      <td>70</td>\n      <td>2014</td>\n      <td>94.0</td>\n      <td>80</td>\n    </tr>\n  </tbody>\n</table>\n</div>"
     },
     "execution_count": 16,
     "metadata": {},
     "output_type": "execute_result"
    }
   ],
   "source": [
    "df.head()"
   ],
   "metadata": {
    "collapsed": false,
    "ExecuteTime": {
     "end_time": "2023-06-23T20:22:49.047280Z",
     "start_time": "2023-06-23T20:22:48.994329Z"
    }
   }
  },
  {
   "cell_type": "markdown",
   "source": [
    "El siguiente paso es preprocesar los datos para que estén en un formato adecuado para nuestro modelo de red neuronal. Esto implica dos pasos principales: codificación de variables categóricas y normalización de variables numéricas."
   ],
   "metadata": {
    "collapsed": false
   }
  },
  {
   "cell_type": "code",
   "execution_count": 17,
   "outputs": [],
   "source": [
    "# Define las columnas categóricas\n",
    "cat_cols = ['title', 'rating', 'ratingLevel']\n",
    "\n",
    "# Crea un transformador para las columnas categóricas\n",
    "cat_transformer = OneHotEncoder(handle_unknown='ignore')\n",
    "\n",
    "# Crea un preprocesador que aplique el transformador a las columnas categóricas\n",
    "preprocessor = ColumnTransformer(transformers=[\n",
    "    ('cat', cat_transformer, cat_cols)\n",
    "], remainder='passthrough')"
   ],
   "metadata": {
    "collapsed": false,
    "ExecuteTime": {
     "end_time": "2023-06-23T20:22:49.052227Z",
     "start_time": "2023-06-23T20:22:48.998236Z"
    }
   }
  },
  {
   "cell_type": "markdown",
   "source": [
    "Vamos a normalizar las variables numéricas. La normalización (o escalado) de características es importante porque las características con magnitudes muy diferentes pueden hacer que el algoritmo de aprendizaje sea sesgado hacia las características con magnitudes mayores."
   ],
   "metadata": {
    "collapsed": false
   }
  },
  {
   "cell_type": "code",
   "execution_count": 18,
   "outputs": [],
   "source": [
    "# Define las columnas numéricas\n",
    "num_cols = ['ratingDescription', 'release year', 'user rating size']\n",
    "\n",
    "# Crea un transformador para las columnas numéricas\n",
    "num_transformer = StandardScaler()\n",
    "\n",
    "# Añade el transformador numérico al preprocesador\n",
    "preprocessor = ColumnTransformer(transformers=[\n",
    "    ('num', num_transformer, num_cols),\n",
    "    ('cat', cat_transformer, cat_cols)\n",
    "], remainder='passthrough')"
   ],
   "metadata": {
    "collapsed": false,
    "ExecuteTime": {
     "end_time": "2023-06-23T20:22:49.068990Z",
     "start_time": "2023-06-23T20:22:49.000902Z"
    }
   }
  },
  {
   "cell_type": "code",
   "execution_count": 19,
   "outputs": [],
   "source": [
    "# Divide los datos en conjuntos de entrenamiento y prueba\n",
    "X = df.drop('user rating score', axis=1)\n",
    "y = df['user rating score']\n",
    "X_train, X_test, y_train, y_test = train_test_split(X, y, test_size=0.2, random_state=42)"
   ],
   "metadata": {
    "collapsed": false,
    "ExecuteTime": {
     "end_time": "2023-06-23T20:22:49.069451Z",
     "start_time": "2023-06-23T20:22:49.011168Z"
    }
   }
  },
  {
   "cell_type": "code",
   "execution_count": 20,
   "outputs": [],
   "source": [
    "# Aplica el preprocesador a los datos de entrenamiento y prueba\n",
    "X_train = preprocessor.fit_transform(X_train).toarray()\n",
    "X_test = preprocessor.transform(X_test).toarray()"
   ],
   "metadata": {
    "collapsed": false,
    "ExecuteTime": {
     "end_time": "2023-06-23T20:22:49.069735Z",
     "start_time": "2023-06-23T20:22:49.011555Z"
    }
   }
  },
  {
   "cell_type": "code",
   "execution_count": 21,
   "outputs": [],
   "source": [
    "# Definimos el modelo\n",
    "\n",
    "model = Sequential([\n",
    "    Dense(32, activation='relu', input_shape=(X_train.shape[1],)),\n",
    "    Dense(32, activation='relu'),\n",
    "    Dense(1)\n",
    "])\n",
    "\n",
    "# Compilamos el modelo\n",
    "\n",
    "model.compile(optimizer='adam', loss='mean_squared_error')"
   ],
   "metadata": {
    "collapsed": false,
    "ExecuteTime": {
     "end_time": "2023-06-23T20:22:49.139740Z",
     "start_time": "2023-06-23T20:22:49.025102Z"
    }
   }
  },
  {
   "cell_type": "code",
   "execution_count": 22,
   "outputs": [
    {
     "name": "stdout",
     "output_type": "stream",
     "text": [
      "Epoch 1/100\n",
      "20/20 [==============================] - 0s 6ms/step - loss: 8153.1338 - val_loss: 8238.4492\n",
      "Epoch 2/100\n",
      "20/20 [==============================] - 0s 2ms/step - loss: 8055.3057 - val_loss: 8111.5938\n",
      "Epoch 3/100\n",
      "20/20 [==============================] - 0s 3ms/step - loss: 7882.4937 - val_loss: 7876.6860\n",
      "Epoch 4/100\n",
      "20/20 [==============================] - 0s 2ms/step - loss: 7567.4360 - val_loss: 7464.9268\n",
      "Epoch 5/100\n",
      "20/20 [==============================] - 0s 2ms/step - loss: 7043.3071 - val_loss: 6810.1201\n",
      "Epoch 6/100\n",
      "20/20 [==============================] - 0s 2ms/step - loss: 6244.9053 - val_loss: 5857.4912\n",
      "Epoch 7/100\n",
      "20/20 [==============================] - 0s 2ms/step - loss: 5139.8213 - val_loss: 4616.2446\n",
      "Epoch 8/100\n",
      "20/20 [==============================] - 0s 2ms/step - loss: 3799.9160 - val_loss: 3214.7380\n",
      "Epoch 9/100\n",
      "20/20 [==============================] - 0s 2ms/step - loss: 2410.9517 - val_loss: 1892.5330\n",
      "Epoch 10/100\n",
      "20/20 [==============================] - 0s 2ms/step - loss: 1251.9127 - val_loss: 904.4785\n",
      "Epoch 11/100\n",
      "20/20 [==============================] - 0s 2ms/step - loss: 522.5984 - val_loss: 385.7369\n",
      "Epoch 12/100\n",
      "20/20 [==============================] - 0s 2ms/step - loss: 219.8664 - val_loss: 207.3303\n",
      "Epoch 13/100\n",
      "20/20 [==============================] - 0s 2ms/step - loss: 136.9127 - val_loss: 157.3353\n",
      "Epoch 14/100\n",
      "20/20 [==============================] - 0s 2ms/step - loss: 112.0068 - val_loss: 136.2890\n",
      "Epoch 15/100\n",
      "20/20 [==============================] - 0s 2ms/step - loss: 93.8757 - val_loss: 123.2875\n",
      "Epoch 16/100\n",
      "20/20 [==============================] - 0s 2ms/step - loss: 79.7081 - val_loss: 112.8408\n",
      "Epoch 17/100\n",
      "20/20 [==============================] - 0s 2ms/step - loss: 68.6365 - val_loss: 103.3026\n",
      "Epoch 18/100\n",
      "20/20 [==============================] - 0s 2ms/step - loss: 59.0590 - val_loss: 96.5041\n",
      "Epoch 19/100\n",
      "20/20 [==============================] - 0s 2ms/step - loss: 51.6625 - val_loss: 89.8960\n",
      "Epoch 20/100\n",
      "20/20 [==============================] - 0s 2ms/step - loss: 45.1625 - val_loss: 84.8289\n",
      "Epoch 21/100\n",
      "20/20 [==============================] - 0s 2ms/step - loss: 39.7036 - val_loss: 81.5823\n",
      "Epoch 22/100\n",
      "20/20 [==============================] - 0s 2ms/step - loss: 35.2366 - val_loss: 77.4650\n",
      "Epoch 23/100\n",
      "20/20 [==============================] - 0s 2ms/step - loss: 31.2574 - val_loss: 74.2914\n",
      "Epoch 24/100\n",
      "20/20 [==============================] - 0s 2ms/step - loss: 27.7335 - val_loss: 71.6156\n",
      "Epoch 25/100\n",
      "20/20 [==============================] - 0s 2ms/step - loss: 24.9666 - val_loss: 69.6661\n",
      "Epoch 26/100\n",
      "20/20 [==============================] - 0s 2ms/step - loss: 22.3853 - val_loss: 68.2789\n",
      "Epoch 27/100\n",
      "20/20 [==============================] - 0s 2ms/step - loss: 20.1262 - val_loss: 65.5319\n",
      "Epoch 28/100\n",
      "20/20 [==============================] - 0s 2ms/step - loss: 17.9378 - val_loss: 65.1190\n",
      "Epoch 29/100\n",
      "20/20 [==============================] - 0s 2ms/step - loss: 16.1498 - val_loss: 64.0412\n",
      "Epoch 30/100\n",
      "20/20 [==============================] - 0s 2ms/step - loss: 14.5276 - val_loss: 62.6838\n",
      "Epoch 31/100\n",
      "20/20 [==============================] - 0s 2ms/step - loss: 13.0739 - val_loss: 61.7293\n",
      "Epoch 32/100\n",
      "20/20 [==============================] - 0s 2ms/step - loss: 11.7816 - val_loss: 60.6293\n",
      "Epoch 33/100\n",
      "20/20 [==============================] - 0s 2ms/step - loss: 10.6387 - val_loss: 60.1028\n",
      "Epoch 34/100\n",
      "20/20 [==============================] - 0s 2ms/step - loss: 9.5152 - val_loss: 59.5592\n",
      "Epoch 35/100\n",
      "20/20 [==============================] - 0s 2ms/step - loss: 8.5990 - val_loss: 59.1215\n",
      "Epoch 36/100\n",
      "20/20 [==============================] - 0s 2ms/step - loss: 7.7890 - val_loss: 58.4525\n",
      "Epoch 37/100\n",
      "20/20 [==============================] - 0s 2ms/step - loss: 6.9769 - val_loss: 57.8604\n",
      "Epoch 38/100\n",
      "20/20 [==============================] - 0s 2ms/step - loss: 6.2700 - val_loss: 57.8433\n",
      "Epoch 39/100\n",
      "20/20 [==============================] - 0s 2ms/step - loss: 5.6368 - val_loss: 57.1624\n",
      "Epoch 40/100\n",
      "20/20 [==============================] - 0s 2ms/step - loss: 5.0562 - val_loss: 56.8561\n",
      "Epoch 41/100\n",
      "20/20 [==============================] - 0s 2ms/step - loss: 4.5843 - val_loss: 56.5849\n",
      "Epoch 42/100\n",
      "20/20 [==============================] - 0s 2ms/step - loss: 4.1218 - val_loss: 56.4475\n",
      "Epoch 43/100\n",
      "20/20 [==============================] - 0s 2ms/step - loss: 3.7081 - val_loss: 56.2346\n",
      "Epoch 44/100\n",
      "20/20 [==============================] - 0s 2ms/step - loss: 3.3237 - val_loss: 56.3144\n",
      "Epoch 45/100\n",
      "20/20 [==============================] - 0s 2ms/step - loss: 2.9715 - val_loss: 56.1335\n",
      "Epoch 46/100\n",
      "20/20 [==============================] - 0s 2ms/step - loss: 2.6969 - val_loss: 56.0180\n",
      "Epoch 47/100\n",
      "20/20 [==============================] - 0s 2ms/step - loss: 2.4035 - val_loss: 55.9819\n",
      "Epoch 48/100\n",
      "20/20 [==============================] - 0s 2ms/step - loss: 2.1563 - val_loss: 55.8681\n",
      "Epoch 49/100\n",
      "20/20 [==============================] - 0s 2ms/step - loss: 1.9220 - val_loss: 55.8942\n",
      "Epoch 50/100\n",
      "20/20 [==============================] - 0s 2ms/step - loss: 1.7445 - val_loss: 55.9755\n",
      "Epoch 51/100\n",
      "20/20 [==============================] - 0s 2ms/step - loss: 1.5642 - val_loss: 55.7903\n",
      "Epoch 52/100\n",
      "20/20 [==============================] - 0s 2ms/step - loss: 1.3953 - val_loss: 55.7916\n",
      "Epoch 53/100\n",
      "20/20 [==============================] - 0s 2ms/step - loss: 1.2574 - val_loss: 55.9335\n",
      "Epoch 54/100\n",
      "20/20 [==============================] - 0s 2ms/step - loss: 1.1401 - val_loss: 55.8809\n",
      "Epoch 55/100\n",
      "20/20 [==============================] - 0s 2ms/step - loss: 1.0155 - val_loss: 55.8175\n",
      "Epoch 56/100\n",
      "20/20 [==============================] - 0s 2ms/step - loss: 0.9171 - val_loss: 55.9067\n",
      "Epoch 57/100\n",
      "20/20 [==============================] - 0s 2ms/step - loss: 0.8111 - val_loss: 55.9695\n",
      "Epoch 58/100\n",
      "20/20 [==============================] - 0s 2ms/step - loss: 0.7464 - val_loss: 55.9255\n",
      "Epoch 59/100\n",
      "20/20 [==============================] - 0s 2ms/step - loss: 0.6574 - val_loss: 56.0273\n",
      "Epoch 60/100\n",
      "20/20 [==============================] - 0s 2ms/step - loss: 0.5947 - val_loss: 56.0363\n",
      "Epoch 61/100\n",
      "20/20 [==============================] - 0s 2ms/step - loss: 0.5280 - val_loss: 56.1904\n",
      "Epoch 62/100\n",
      "20/20 [==============================] - 0s 2ms/step - loss: 0.4751 - val_loss: 56.1164\n",
      "Epoch 63/100\n",
      "20/20 [==============================] - 0s 2ms/step - loss: 0.4303 - val_loss: 56.2723\n",
      "Epoch 64/100\n",
      "20/20 [==============================] - 0s 2ms/step - loss: 0.3834 - val_loss: 56.3876\n",
      "Epoch 65/100\n",
      "20/20 [==============================] - 0s 2ms/step - loss: 0.3425 - val_loss: 56.3074\n",
      "Epoch 66/100\n",
      "20/20 [==============================] - 0s 2ms/step - loss: 0.3066 - val_loss: 56.4536\n",
      "Epoch 67/100\n",
      "20/20 [==============================] - 0s 2ms/step - loss: 0.2729 - val_loss: 56.3864\n",
      "Epoch 68/100\n",
      "20/20 [==============================] - 0s 2ms/step - loss: 0.2437 - val_loss: 56.5174\n",
      "Epoch 69/100\n",
      "20/20 [==============================] - 0s 2ms/step - loss: 0.2183 - val_loss: 56.4807\n",
      "Epoch 70/100\n",
      "20/20 [==============================] - 0s 2ms/step - loss: 0.1957 - val_loss: 56.5988\n",
      "Epoch 71/100\n",
      "20/20 [==============================] - 0s 2ms/step - loss: 0.1750 - val_loss: 56.6522\n",
      "Epoch 72/100\n",
      "20/20 [==============================] - 0s 2ms/step - loss: 0.1568 - val_loss: 56.7485\n",
      "Epoch 73/100\n",
      "20/20 [==============================] - 0s 2ms/step - loss: 0.1412 - val_loss: 56.7572\n",
      "Epoch 74/100\n",
      "20/20 [==============================] - 0s 2ms/step - loss: 0.1244 - val_loss: 56.8151\n",
      "Epoch 75/100\n",
      "20/20 [==============================] - 0s 2ms/step - loss: 0.1113 - val_loss: 56.9454\n",
      "Epoch 76/100\n",
      "20/20 [==============================] - 0s 2ms/step - loss: 0.1001 - val_loss: 56.8746\n",
      "Epoch 77/100\n",
      "20/20 [==============================] - 0s 2ms/step - loss: 0.0896 - val_loss: 56.9937\n",
      "Epoch 78/100\n",
      "20/20 [==============================] - 0s 2ms/step - loss: 0.0802 - val_loss: 56.9942\n",
      "Epoch 79/100\n",
      "20/20 [==============================] - 0s 2ms/step - loss: 0.0722 - val_loss: 57.0271\n",
      "Epoch 80/100\n",
      "20/20 [==============================] - 0s 2ms/step - loss: 0.0646 - val_loss: 57.0494\n",
      "Epoch 81/100\n",
      "20/20 [==============================] - 0s 2ms/step - loss: 0.0579 - val_loss: 57.1449\n",
      "Epoch 82/100\n",
      "20/20 [==============================] - 0s 2ms/step - loss: 0.0516 - val_loss: 57.1208\n",
      "Epoch 83/100\n",
      "20/20 [==============================] - 0s 2ms/step - loss: 0.0459 - val_loss: 57.2054\n",
      "Epoch 84/100\n",
      "20/20 [==============================] - 0s 2ms/step - loss: 0.0415 - val_loss: 57.2314\n",
      "Epoch 85/100\n",
      "20/20 [==============================] - 0s 2ms/step - loss: 0.0371 - val_loss: 57.2577\n",
      "Epoch 86/100\n",
      "20/20 [==============================] - 0s 2ms/step - loss: 0.0340 - val_loss: 57.2532\n",
      "Epoch 87/100\n",
      "20/20 [==============================] - 0s 2ms/step - loss: 0.0298 - val_loss: 57.3593\n",
      "Epoch 88/100\n",
      "20/20 [==============================] - 0s 2ms/step - loss: 0.0272 - val_loss: 57.3411\n",
      "Epoch 89/100\n",
      "20/20 [==============================] - 0s 2ms/step - loss: 0.0243 - val_loss: 57.3567\n",
      "Epoch 90/100\n",
      "20/20 [==============================] - 0s 2ms/step - loss: 0.0223 - val_loss: 57.4020\n",
      "Epoch 91/100\n",
      "20/20 [==============================] - 0s 2ms/step - loss: 0.0199 - val_loss: 57.4540\n",
      "Epoch 92/100\n",
      "20/20 [==============================] - 0s 2ms/step - loss: 0.0179 - val_loss: 57.4168\n",
      "Epoch 93/100\n",
      "20/20 [==============================] - 0s 2ms/step - loss: 0.0162 - val_loss: 57.4695\n",
      "Epoch 94/100\n",
      "20/20 [==============================] - 0s 2ms/step - loss: 0.0147 - val_loss: 57.4818\n",
      "Epoch 95/100\n",
      "20/20 [==============================] - 0s 2ms/step - loss: 0.0137 - val_loss: 57.4901\n",
      "Epoch 96/100\n",
      "20/20 [==============================] - 0s 2ms/step - loss: 0.0123 - val_loss: 57.5208\n",
      "Epoch 97/100\n",
      "20/20 [==============================] - 0s 2ms/step - loss: 0.0111 - val_loss: 57.5324\n",
      "Epoch 98/100\n",
      "20/20 [==============================] - 0s 2ms/step - loss: 0.0101 - val_loss: 57.5461\n",
      "Epoch 99/100\n",
      "20/20 [==============================] - 0s 2ms/step - loss: 0.0095 - val_loss: 57.5515\n",
      "Epoch 100/100\n",
      "20/20 [==============================] - 0s 2ms/step - loss: 0.0085 - val_loss: 57.5676\n"
     ]
    },
    {
     "data": {
      "text/plain": "<keras.callbacks.History at 0x7fc110dcc2b0>"
     },
     "execution_count": 22,
     "metadata": {},
     "output_type": "execute_result"
    }
   ],
   "source": [
    "# Entrenamos el modelo\n",
    "\n",
    "model.fit(X_train, y_train, epochs=100, batch_size=32, validation_split=0.2)"
   ],
   "metadata": {
    "collapsed": false,
    "ExecuteTime": {
     "end_time": "2023-06-23T20:22:53.297795Z",
     "start_time": "2023-06-23T20:22:49.090963Z"
    }
   }
  },
  {
   "cell_type": "code",
   "execution_count": 23,
   "outputs": [
    {
     "name": "stdout",
     "output_type": "stream",
     "text": [
      "7/7 [==============================] - 0s 1ms/step - loss: 60.8313\n",
      "Test Loss: 60.831275939941406\n"
     ]
    }
   ],
   "source": [
    "# Evaluamos el modelo\n",
    "\n",
    "loss = model.evaluate(X_test, y_test)\n",
    "\n",
    "print(f\"Test Loss: {loss}\")"
   ],
   "metadata": {
    "collapsed": false,
    "ExecuteTime": {
     "end_time": "2023-06-23T20:23:14.686870Z",
     "start_time": "2023-06-23T20:23:14.580557Z"
    }
   }
  },
  {
   "cell_type": "code",
   "execution_count": 24,
   "outputs": [
    {
     "name": "stdout",
     "output_type": "stream",
     "text": [
      "7/7 [==============================] - 0s 784us/step\n"
     ]
    }
   ],
   "source": [
    "# Hacemos predicciones con el modelo\n",
    "\n",
    "y_pred = model.predict(X_test)"
   ],
   "metadata": {
    "collapsed": false,
    "ExecuteTime": {
     "end_time": "2023-06-23T20:24:13.130195Z",
     "start_time": "2023-06-23T20:24:13.039061Z"
    }
   }
  },
  {
   "cell_type": "code",
   "execution_count": 26,
   "outputs": [
    {
     "name": "stdout",
     "output_type": "stream",
     "text": [
      "R2 Score: 0.6055243952247416\n"
     ]
    }
   ],
   "source": [
    "# Calcular r2_score\n",
    "\n",
    "from sklearn.metrics import r2_score\n",
    "\n",
    "r2 = r2_score(y_test, y_pred)\n",
    "\n",
    "print(f\"R2 Score: {r2}\")"
   ],
   "metadata": {
    "collapsed": false,
    "ExecuteTime": {
     "end_time": "2023-06-23T20:24:47.960746Z",
     "start_time": "2023-06-23T20:24:47.948706Z"
    }
   }
  },
  {
   "cell_type": "markdown",
   "source": [
    "Realizamos algunas predicciones con datos de entrada nuevos. Esto es lo que hariaamos en una situación real donde tienes una nueva película y características de usuario y quieres predecir cómo le gustará al usuario esta nueva película.\n",
    "\n",
    "Para hacer esto, necesitamos preprocesar las nuevas entradas de la misma manera que preprocesamos el conjunto de entrenamiento. Recuerda que siempre debes aplicar la misma transformación a los datos de entrada nuevos que aplicaste a los datos de entrenamiento."
   ],
   "metadata": {
    "collapsed": false
   }
  },
  {
   "cell_type": "code",
   "execution_count": 27,
   "outputs": [
    {
     "name": "stdout",
     "output_type": "stream",
     "text": [
      "1/1 [==============================] - 0s 66ms/step\n",
      "Predicted user rating score: 63.97406768798828\n"
     ]
    }
   ],
   "source": [
    "# Un nuevo ejemplo de entrada\n",
    "new_input = pd.DataFrame({\n",
    "    'title': ['New Movie'],\n",
    "    'rating': ['PG-13'],\n",
    "    'ratingLevel': ['Parents strongly cautioned'],\n",
    "    'ratingDescription': [80],\n",
    "    'release year': [2023],\n",
    "    'user rating size': [80]\n",
    "})\n",
    "\n",
    "# Preprocesar la entrada\n",
    "new_input_preprocessed = preprocessor.transform(new_input)\n",
    "\n",
    "# Hacer la predicción\n",
    "prediction = model.predict(new_input_preprocessed)\n",
    "\n",
    "print(f\"Predicted user rating score: {prediction[0][0]}\")"
   ],
   "metadata": {
    "collapsed": false,
    "ExecuteTime": {
     "end_time": "2023-06-23T20:27:44.321047Z",
     "start_time": "2023-06-23T20:27:44.241619Z"
    }
   }
  },
  {
   "cell_type": "code",
   "execution_count": null,
   "outputs": [],
   "source": [],
   "metadata": {
    "collapsed": false
   }
  }
 ],
 "metadata": {
  "kernelspec": {
   "display_name": "Python 3",
   "language": "python",
   "name": "python3"
  },
  "language_info": {
   "codemirror_mode": {
    "name": "ipython",
    "version": 2
   },
   "file_extension": ".py",
   "mimetype": "text/x-python",
   "name": "python",
   "nbconvert_exporter": "python",
   "pygments_lexer": "ipython2",
   "version": "2.7.6"
  }
 },
 "nbformat": 4,
 "nbformat_minor": 0
}
